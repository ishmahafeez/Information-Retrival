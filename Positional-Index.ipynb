{
  "nbformat": 4,
  "nbformat_minor": 0,
  "metadata": {
    "colab": {
      "provenance": [],
      "toc_visible": true
    },
    "kernelspec": {
      "name": "python3",
      "display_name": "Python 3"
    },
    "language_info": {
      "name": "python"
    },
    "widgets": {
      "application/vnd.jupyter.widget-state+json": {
        "5917f133220b432a9a602c8841213fdb": {
          "model_module": "@jupyter-widgets/controls",
          "model_name": "VBoxModel",
          "model_module_version": "1.5.0",
          "state": {
            "_dom_classes": [
              "widget-interact"
            ],
            "_model_module": "@jupyter-widgets/controls",
            "_model_module_version": "1.5.0",
            "_model_name": "VBoxModel",
            "_view_count": null,
            "_view_module": "@jupyter-widgets/controls",
            "_view_module_version": "1.5.0",
            "_view_name": "VBoxView",
            "box_style": "",
            "children": [
              "IPY_MODEL_355f6b12251a4fa0a22e0a5f02f0e406",
              "IPY_MODEL_abf181ccdf844f89890d2e2cbc6412f7"
            ],
            "layout": "IPY_MODEL_c04c4b2f248a4a6bbb21d1395f85acb1"
          }
        },
        "355f6b12251a4fa0a22e0a5f02f0e406": {
          "model_module": "@jupyter-widgets/controls",
          "model_name": "TextModel",
          "model_module_version": "1.5.0",
          "state": {
            "_dom_classes": [],
            "_model_module": "@jupyter-widgets/controls",
            "_model_module_version": "1.5.0",
            "_model_name": "TextModel",
            "_view_count": null,
            "_view_module": "@jupyter-widgets/controls",
            "_view_module_version": "1.5.0",
            "_view_name": "TextView",
            "continuous_update": true,
            "description": "query",
            "description_tooltip": null,
            "disabled": false,
            "layout": "IPY_MODEL_7dfea94acd0d43c7a0b06acacb80eb7a",
            "placeholder": "​",
            "style": "IPY_MODEL_a8983075cdb3462b8949cb0f82d1e68e",
            "value": "past research / 4"
          }
        },
        "abf181ccdf844f89890d2e2cbc6412f7": {
          "model_module": "@jupyter-widgets/output",
          "model_name": "OutputModel",
          "model_module_version": "1.0.0",
          "state": {
            "_dom_classes": [],
            "_model_module": "@jupyter-widgets/output",
            "_model_module_version": "1.0.0",
            "_model_name": "OutputModel",
            "_view_count": null,
            "_view_module": "@jupyter-widgets/output",
            "_view_module_version": "1.0.0",
            "_view_name": "OutputView",
            "layout": "IPY_MODEL_120307b1943e4e5591e11671111c21bb",
            "msg_id": "",
            "outputs": [
              {
                "output_type": "stream",
                "name": "stdout",
                "text": [
                  "Results: ['12.txt']\n"
                ]
              }
            ]
          }
        },
        "c04c4b2f248a4a6bbb21d1395f85acb1": {
          "model_module": "@jupyter-widgets/base",
          "model_name": "LayoutModel",
          "model_module_version": "1.2.0",
          "state": {
            "_model_module": "@jupyter-widgets/base",
            "_model_module_version": "1.2.0",
            "_model_name": "LayoutModel",
            "_view_count": null,
            "_view_module": "@jupyter-widgets/base",
            "_view_module_version": "1.2.0",
            "_view_name": "LayoutView",
            "align_content": null,
            "align_items": null,
            "align_self": null,
            "border": null,
            "bottom": null,
            "display": null,
            "flex": null,
            "flex_flow": null,
            "grid_area": null,
            "grid_auto_columns": null,
            "grid_auto_flow": null,
            "grid_auto_rows": null,
            "grid_column": null,
            "grid_gap": null,
            "grid_row": null,
            "grid_template_areas": null,
            "grid_template_columns": null,
            "grid_template_rows": null,
            "height": null,
            "justify_content": null,
            "justify_items": null,
            "left": null,
            "margin": null,
            "max_height": null,
            "max_width": null,
            "min_height": null,
            "min_width": null,
            "object_fit": null,
            "object_position": null,
            "order": null,
            "overflow": null,
            "overflow_x": null,
            "overflow_y": null,
            "padding": null,
            "right": null,
            "top": null,
            "visibility": null,
            "width": null
          }
        },
        "7dfea94acd0d43c7a0b06acacb80eb7a": {
          "model_module": "@jupyter-widgets/base",
          "model_name": "LayoutModel",
          "model_module_version": "1.2.0",
          "state": {
            "_model_module": "@jupyter-widgets/base",
            "_model_module_version": "1.2.0",
            "_model_name": "LayoutModel",
            "_view_count": null,
            "_view_module": "@jupyter-widgets/base",
            "_view_module_version": "1.2.0",
            "_view_name": "LayoutView",
            "align_content": null,
            "align_items": null,
            "align_self": null,
            "border": null,
            "bottom": null,
            "display": null,
            "flex": null,
            "flex_flow": null,
            "grid_area": null,
            "grid_auto_columns": null,
            "grid_auto_flow": null,
            "grid_auto_rows": null,
            "grid_column": null,
            "grid_gap": null,
            "grid_row": null,
            "grid_template_areas": null,
            "grid_template_columns": null,
            "grid_template_rows": null,
            "height": null,
            "justify_content": null,
            "justify_items": null,
            "left": null,
            "margin": null,
            "max_height": null,
            "max_width": null,
            "min_height": null,
            "min_width": null,
            "object_fit": null,
            "object_position": null,
            "order": null,
            "overflow": null,
            "overflow_x": null,
            "overflow_y": null,
            "padding": null,
            "right": null,
            "top": null,
            "visibility": null,
            "width": null
          }
        },
        "a8983075cdb3462b8949cb0f82d1e68e": {
          "model_module": "@jupyter-widgets/controls",
          "model_name": "DescriptionStyleModel",
          "model_module_version": "1.5.0",
          "state": {
            "_model_module": "@jupyter-widgets/controls",
            "_model_module_version": "1.5.0",
            "_model_name": "DescriptionStyleModel",
            "_view_count": null,
            "_view_module": "@jupyter-widgets/base",
            "_view_module_version": "1.2.0",
            "_view_name": "StyleView",
            "description_width": ""
          }
        },
        "120307b1943e4e5591e11671111c21bb": {
          "model_module": "@jupyter-widgets/base",
          "model_name": "LayoutModel",
          "model_module_version": "1.2.0",
          "state": {
            "_model_module": "@jupyter-widgets/base",
            "_model_module_version": "1.2.0",
            "_model_name": "LayoutModel",
            "_view_count": null,
            "_view_module": "@jupyter-widgets/base",
            "_view_module_version": "1.2.0",
            "_view_name": "LayoutView",
            "align_content": null,
            "align_items": null,
            "align_self": null,
            "border": null,
            "bottom": null,
            "display": null,
            "flex": null,
            "flex_flow": null,
            "grid_area": null,
            "grid_auto_columns": null,
            "grid_auto_flow": null,
            "grid_auto_rows": null,
            "grid_column": null,
            "grid_gap": null,
            "grid_row": null,
            "grid_template_areas": null,
            "grid_template_columns": null,
            "grid_template_rows": null,
            "height": null,
            "justify_content": null,
            "justify_items": null,
            "left": null,
            "margin": null,
            "max_height": null,
            "max_width": null,
            "min_height": null,
            "min_width": null,
            "object_fit": null,
            "object_position": null,
            "order": null,
            "overflow": null,
            "overflow_x": null,
            "overflow_y": null,
            "padding": null,
            "right": null,
            "top": null,
            "visibility": null,
            "width": null
          }
        }
      }
    }
  },
  "cells": [
    {
      "cell_type": "code",
      "execution_count": null,
      "metadata": {
        "colab": {
          "base_uri": "https://localhost:8080/"
        },
        "id": "unHYQjRfXtxZ",
        "outputId": "2f5a9855-f04e-45fd-bbab-5840ed5cc2b9"
      },
      "outputs": [
        {
          "output_type": "stream",
          "name": "stderr",
          "text": [
            "[nltk_data] Downloading package punkt to /root/nltk_data...\n",
            "[nltk_data]   Package punkt is already up-to-date!\n"
          ]
        },
        {
          "output_type": "execute_result",
          "data": {
            "text/plain": [
              "True"
            ]
          },
          "metadata": {},
          "execution_count": 25
        }
      ],
      "source": [
        "import os\n",
        "import nltk\n",
        "from nltk.stem import PorterStemmer\n",
        "from nltk.tokenize import word_tokenize\n",
        "from collections import defaultdict\n",
        "nltk.download('punkt')\n",
        "!pip install ipywidgets\n",
        "from ipywidgets import interact\n",
        "from IPython.display import display"
      ]
    },
    {
      "cell_type": "code",
      "source": [
        "from google.colab import drive\n",
        "drive.mount('/content/drive')\n",
        "\n",
        "%cd /content/drive/MyDrive/InfoRetrive"
      ],
      "metadata": {
        "colab": {
          "base_uri": "https://localhost:8080/"
        },
        "id": "XEN4Ho4NYY6t",
        "outputId": "245e1dcf-6bd1-44d2-8293-18c15713abbc"
      },
      "execution_count": null,
      "outputs": [
        {
          "output_type": "stream",
          "name": "stdout",
          "text": [
            "Drive already mounted at /content/drive; to attempt to forcibly remount, call drive.mount(\"/content/drive\", force_remount=True).\n",
            "/content/drive/MyDrive/InfoRetrive\n"
          ]
        }
      ]
    },
    {
      "cell_type": "code",
      "source": [
        "#to read stop words\n",
        "def read_stop_words(stop_words_file):\n",
        "    with open(stop_words_file, 'r') as f:\n",
        "        stop_words = set(f.read().splitlines())\n",
        "    return stop_words\n",
        "\n",
        "stop_words_file = \"/content/drive/MyDrive/InfoRetrive/Stopword-List.txt\"\n",
        "\n",
        "stop_words = read_stop_words(stop_words_file)\n",
        "print(stop_words)\n",
        "\n",
        "\n",
        "\n",
        "\n"
      ],
      "metadata": {
        "colab": {
          "base_uri": "https://localhost:8080/"
        },
        "id": "xvjKUSVWYCzS",
        "outputId": "840068a3-cd8d-47a0-95ab-4ad2f106570c"
      },
      "execution_count": null,
      "outputs": [
        {
          "output_type": "stream",
          "name": "stdout",
          "text": [
            "{'', 'in', 'and ', 'can', 'is ', 'all', 'at', 'had', 'to', 'on', 'up', 'once ', 'his', 'for', 'have', 'we', 'no', 'her', 'has', 'of ', 'do', 'are', 'be', 'a', 'am', 'the', 'as'}\n"
          ]
        }
      ]
    },
    {
      "cell_type": "code",
      "source": [
        "ps = PorterStemmer()\n",
        "\n",
        "# extract tokens from multiple documents in a folder\n",
        "def create_positional_index_from_folder(folder_path):\n",
        "    positional_index = defaultdict(set) #using set instead of list to make sure no dublicates\n",
        "\n",
        "    for filename in os.listdir(folder_path):  # Iterate over each document\n",
        "        file_path = os.path.join(folder_path, filename)\n",
        "        with open(file_path, 'r', encoding='cp1252') as file:  # cp1252 is windows text file encoding\n",
        "          text = file.read()\n",
        "          tokens =  word_tokenize(text.lower())  #from nlkt module\n",
        "\n",
        "          for position, token in enumerate(tokens): #if tokens not in stop_words:\n",
        "            if token not in stop_words:  # Check if token is not a stop word\n",
        "                positional_index[token].add((filename, position))  #(27527 tokens with no stemming)\n",
        "                #stemmed_token = ps.stem(token)  # Stem the token  (23778 toekns)\n",
        "\n",
        "\n",
        "    return positional_index"
      ],
      "metadata": {
        "id": "490Jhazrb8Dk"
      },
      "execution_count": null,
      "outputs": []
    },
    {
      "cell_type": "code",
      "source": [
        "\n",
        "#main\n",
        "folder_path = \"/content/drive/MyDrive/InfoRetrive/ResearchPapers\"\n",
        "positional_index = create_positional_index_from_folder(folder_path)\n",
        "# for token, positions in positional_index.items():\n",
        "#     print(f\"{token}: {positions}\")\n",
        "\n",
        "print(\"Length of the inverted index:\", len(positional_index))\n",
        "\n"
      ],
      "metadata": {
        "colab": {
          "base_uri": "https://localhost:8080/"
        },
        "id": "TgT4W11QYtyS",
        "outputId": "f09c2220-fe25-4e01-eb3d-2fd254b0e604"
      },
      "execution_count": null,
      "outputs": [
        {
          "output_type": "stream",
          "name": "stdout",
          "text": [
            "Length of the inverted index: 27527\n"
          ]
        }
      ]
    },
    {
      "cell_type": "markdown",
      "source": [
        "-----------------------------------------------"
      ],
      "metadata": {
        "id": "OzXJHc-n-UOq"
      }
    },
    {
      "cell_type": "code",
      "source": [
        "def proximity_query(positional_index, term1, term2, max_distance):\n",
        "    if term1 not in positional_index or term2 not in positional_index: #if term dosent exist\n",
        "        return []\n",
        "\n",
        "    term1_positions = positional_index[term1]\n",
        "    term2_positions = positional_index[term2]\n",
        "\n",
        "    results = []\n",
        "\n",
        "    for doc1, pos1 in term1_positions:\n",
        "        for doc2, pos2 in term2_positions:\n",
        "            if doc1 == doc2: #if both terms in same documnt\n",
        "                if abs(pos1 - pos2) <= max_distance: #calculate and check difference\n",
        "                    results.append(doc1) #if within the max distance\n",
        "                    break  # Break as soon as one valid occurrence is found in the document\n",
        "\n",
        "    return results\n",
        "\n",
        "\n",
        "# results = proximity_query(positional_index, \"past\", \"research\", 4)\n",
        "# print(\"Result\", results)\n"
      ],
      "metadata": {
        "colab": {
          "base_uri": "https://localhost:8080/"
        },
        "id": "iKZuLWGShXU9",
        "outputId": "72c0cd42-116f-499c-d10a-bb1a2c5e7fdc"
      },
      "execution_count": null,
      "outputs": [
        {
          "output_type": "stream",
          "name": "stdout",
          "text": [
            "Result ['12.txt']\n"
          ]
        }
      ]
    },
    {
      "cell_type": "code",
      "source": [
        "def search(query):\n",
        "    try:\n",
        "\n",
        "        query_parts = query.split('/')\n",
        "        terms_distance = query_parts[0].split() #splits into 2 words by white space\n",
        "        term1 = terms_distance[0] #term1\n",
        "        term2 = terms_distance[1] #term2\n",
        "        max_distance = int(query_parts[1].strip()) #max distance and remove trailing white space\n",
        "\n",
        "        results = proximity_query(positional_index, term1, term2, max_distance)\n",
        "        print(\"Results:\", results)\n",
        "    except Exception as e:\n",
        "        print(\"Error:\", e)\n",
        "\n",
        "interact(search, query=\" \");"
      ],
      "metadata": {
        "colab": {
          "base_uri": "https://localhost:8080/",
          "height": 67,
          "referenced_widgets": [
            "5917f133220b432a9a602c8841213fdb",
            "355f6b12251a4fa0a22e0a5f02f0e406",
            "abf181ccdf844f89890d2e2cbc6412f7",
            "c04c4b2f248a4a6bbb21d1395f85acb1",
            "7dfea94acd0d43c7a0b06acacb80eb7a",
            "a8983075cdb3462b8949cb0f82d1e68e",
            "120307b1943e4e5591e11671111c21bb"
          ]
        },
        "id": "T1NjGaAiBhVH",
        "outputId": "0d9cf652-399c-4b28-f1aa-e053166b16b1"
      },
      "execution_count": null,
      "outputs": [
        {
          "output_type": "display_data",
          "data": {
            "text/plain": [
              "interactive(children=(Text(value=' ', description='query'), Output()), _dom_classes=('widget-interact',))"
            ],
            "application/vnd.jupyter.widget-view+json": {
              "version_major": 2,
              "version_minor": 0,
              "model_id": "5917f133220b432a9a602c8841213fdb"
            }
          },
          "metadata": {}
        }
      ]
    },
    {
      "cell_type": "code",
      "source": [],
      "metadata": {
        "id": "sn22ezngCI6u"
      },
      "execution_count": null,
      "outputs": []
    }
  ]
}