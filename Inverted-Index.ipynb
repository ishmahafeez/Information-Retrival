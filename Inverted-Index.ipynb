{
  "nbformat": 4,
  "nbformat_minor": 0,
  "metadata": {
    "colab": {
      "provenance": []
    },
    "kernelspec": {
      "name": "python3",
      "display_name": "Python 3"
    },
    "language_info": {
      "name": "python"
    },
    "widgets": {
      "application/vnd.jupyter.widget-state+json": {
        "9e3fc7dd69dd49e29133c019ccabf773": {
          "model_module": "@jupyter-widgets/controls",
          "model_name": "VBoxModel",
          "model_module_version": "1.5.0",
          "state": {
            "_dom_classes": [
              "widget-interact"
            ],
            "_model_module": "@jupyter-widgets/controls",
            "_model_module_version": "1.5.0",
            "_model_name": "VBoxModel",
            "_view_count": null,
            "_view_module": "@jupyter-widgets/controls",
            "_view_module_version": "1.5.0",
            "_view_name": "VBoxView",
            "box_style": "",
            "children": [
              "IPY_MODEL_a7d07faf6c6448af920244ca0f657464",
              "IPY_MODEL_bddeac9061be4a6aa1b718e8bdcbae3d"
            ],
            "layout": "IPY_MODEL_d65f94420470423592ae0670267d86e0"
          }
        },
        "a7d07faf6c6448af920244ca0f657464": {
          "model_module": "@jupyter-widgets/controls",
          "model_name": "TextModel",
          "model_module_version": "1.5.0",
          "state": {
            "_dom_classes": [],
            "_model_module": "@jupyter-widgets/controls",
            "_model_module_version": "1.5.0",
            "_model_name": "TextModel",
            "_view_count": null,
            "_view_module": "@jupyter-widgets/controls",
            "_view_module_version": "1.5.0",
            "_view_name": "TextView",
            "continuous_update": true,
            "description": "Query",
            "description_tooltip": null,
            "disabled": false,
            "layout": "IPY_MODEL_99cd0a5d5a5b47a594c80627cf9eea67",
            "placeholder": "​",
            "style": "IPY_MODEL_3759340ec84e4f0eabe04320fe3381ad",
            "value": ""
          }
        },
        "bddeac9061be4a6aa1b718e8bdcbae3d": {
          "model_module": "@jupyter-widgets/output",
          "model_name": "OutputModel",
          "model_module_version": "1.0.0",
          "state": {
            "_dom_classes": [],
            "_model_module": "@jupyter-widgets/output",
            "_model_module_version": "1.0.0",
            "_model_name": "OutputModel",
            "_view_count": null,
            "_view_module": "@jupyter-widgets/output",
            "_view_module_version": "1.0.0",
            "_view_name": "OutputView",
            "layout": "IPY_MODEL_e976fdb6fe004f6181e3475fc51ec228",
            "msg_id": "",
            "outputs": [
              {
                "output_type": "stream",
                "name": "stdout",
                "text": [
                  "Results: None\n"
                ]
              }
            ]
          }
        },
        "d65f94420470423592ae0670267d86e0": {
          "model_module": "@jupyter-widgets/base",
          "model_name": "LayoutModel",
          "model_module_version": "1.2.0",
          "state": {
            "_model_module": "@jupyter-widgets/base",
            "_model_module_version": "1.2.0",
            "_model_name": "LayoutModel",
            "_view_count": null,
            "_view_module": "@jupyter-widgets/base",
            "_view_module_version": "1.2.0",
            "_view_name": "LayoutView",
            "align_content": null,
            "align_items": null,
            "align_self": null,
            "border": null,
            "bottom": null,
            "display": null,
            "flex": null,
            "flex_flow": null,
            "grid_area": null,
            "grid_auto_columns": null,
            "grid_auto_flow": null,
            "grid_auto_rows": null,
            "grid_column": null,
            "grid_gap": null,
            "grid_row": null,
            "grid_template_areas": null,
            "grid_template_columns": null,
            "grid_template_rows": null,
            "height": null,
            "justify_content": null,
            "justify_items": null,
            "left": null,
            "margin": null,
            "max_height": null,
            "max_width": null,
            "min_height": null,
            "min_width": null,
            "object_fit": null,
            "object_position": null,
            "order": null,
            "overflow": null,
            "overflow_x": null,
            "overflow_y": null,
            "padding": null,
            "right": null,
            "top": null,
            "visibility": null,
            "width": null
          }
        },
        "99cd0a5d5a5b47a594c80627cf9eea67": {
          "model_module": "@jupyter-widgets/base",
          "model_name": "LayoutModel",
          "model_module_version": "1.2.0",
          "state": {
            "_model_module": "@jupyter-widgets/base",
            "_model_module_version": "1.2.0",
            "_model_name": "LayoutModel",
            "_view_count": null,
            "_view_module": "@jupyter-widgets/base",
            "_view_module_version": "1.2.0",
            "_view_name": "LayoutView",
            "align_content": null,
            "align_items": null,
            "align_self": null,
            "border": null,
            "bottom": null,
            "display": null,
            "flex": null,
            "flex_flow": null,
            "grid_area": null,
            "grid_auto_columns": null,
            "grid_auto_flow": null,
            "grid_auto_rows": null,
            "grid_column": null,
            "grid_gap": null,
            "grid_row": null,
            "grid_template_areas": null,
            "grid_template_columns": null,
            "grid_template_rows": null,
            "height": null,
            "justify_content": null,
            "justify_items": null,
            "left": null,
            "margin": null,
            "max_height": null,
            "max_width": null,
            "min_height": null,
            "min_width": null,
            "object_fit": null,
            "object_position": null,
            "order": null,
            "overflow": null,
            "overflow_x": null,
            "overflow_y": null,
            "padding": null,
            "right": null,
            "top": null,
            "visibility": null,
            "width": null
          }
        },
        "3759340ec84e4f0eabe04320fe3381ad": {
          "model_module": "@jupyter-widgets/controls",
          "model_name": "DescriptionStyleModel",
          "model_module_version": "1.5.0",
          "state": {
            "_model_module": "@jupyter-widgets/controls",
            "_model_module_version": "1.5.0",
            "_model_name": "DescriptionStyleModel",
            "_view_count": null,
            "_view_module": "@jupyter-widgets/base",
            "_view_module_version": "1.2.0",
            "_view_name": "StyleView",
            "description_width": ""
          }
        },
        "e976fdb6fe004f6181e3475fc51ec228": {
          "model_module": "@jupyter-widgets/base",
          "model_name": "LayoutModel",
          "model_module_version": "1.2.0",
          "state": {
            "_model_module": "@jupyter-widgets/base",
            "_model_module_version": "1.2.0",
            "_model_name": "LayoutModel",
            "_view_count": null,
            "_view_module": "@jupyter-widgets/base",
            "_view_module_version": "1.2.0",
            "_view_name": "LayoutView",
            "align_content": null,
            "align_items": null,
            "align_self": null,
            "border": null,
            "bottom": null,
            "display": null,
            "flex": null,
            "flex_flow": null,
            "grid_area": null,
            "grid_auto_columns": null,
            "grid_auto_flow": null,
            "grid_auto_rows": null,
            "grid_column": null,
            "grid_gap": null,
            "grid_row": null,
            "grid_template_areas": null,
            "grid_template_columns": null,
            "grid_template_rows": null,
            "height": null,
            "justify_content": null,
            "justify_items": null,
            "left": null,
            "margin": null,
            "max_height": null,
            "max_width": null,
            "min_height": null,
            "min_width": null,
            "object_fit": null,
            "object_position": null,
            "order": null,
            "overflow": null,
            "overflow_x": null,
            "overflow_y": null,
            "padding": null,
            "right": null,
            "top": null,
            "visibility": null,
            "width": null
          }
        }
      }
    }
  },
  "cells": [
    {
      "cell_type": "code",
      "execution_count": null,
      "metadata": {
        "colab": {
          "base_uri": "https://localhost:8080/"
        },
        "id": "59SHGQarAd9Z",
        "outputId": "2f27b4f7-a416-43c0-c067-8b71ed7ffb57"
      },
      "outputs": [
        {
          "output_type": "stream",
          "name": "stderr",
          "text": [
            "[nltk_data] Downloading package punkt to /root/nltk_data...\n",
            "[nltk_data]   Package punkt is already up-to-date!\n"
          ]
        },
        {
          "output_type": "execute_result",
          "data": {
            "text/plain": [
              "True"
            ]
          },
          "metadata": {},
          "execution_count": 23
        }
      ],
      "source": [
        "import os\n",
        "import nltk\n",
        "from nltk.stem import PorterStemmer\n",
        "from nltk.tokenize import word_tokenize\n",
        "from collections import defaultdict\n",
        "nltk.download('punkt')\n",
        "!pip install ipywidgets\n",
        "from ipywidgets import interact\n",
        "from IPython.display import display"
      ]
    },
    {
      "cell_type": "code",
      "source": [
        "from google.colab import drive\n",
        "drive.mount('/content/drive')\n",
        "\n",
        "%cd /content/drive/MyDrive/InfoRetrive"
      ],
      "metadata": {
        "colab": {
          "base_uri": "https://localhost:8080/"
        },
        "id": "tlqGJIcXAiM3",
        "outputId": "b325acce-9bfe-4bf5-d118-c83716447c18"
      },
      "execution_count": null,
      "outputs": [
        {
          "output_type": "stream",
          "name": "stdout",
          "text": [
            "Mounted at /content/drive\n",
            "/content/drive/MyDrive/InfoRetrive\n"
          ]
        }
      ]
    },
    {
      "cell_type": "code",
      "source": [
        "#read stop words\n",
        "def read_stop_words(stop_words_file):\n",
        "    with open(stop_words_file, 'r') as f:\n",
        "        stop_words = set(f.read().splitlines())\n",
        "    return stop_words\n",
        "\n",
        "stop_words_file = \"/content/drive/MyDrive/InfoRetrive/Stopword-List.txt\"\n",
        "\n",
        "stop_words = read_stop_words(stop_words_file)\n",
        "print(stop_words)\n",
        "\n"
      ],
      "metadata": {
        "colab": {
          "base_uri": "https://localhost:8080/"
        },
        "id": "qwgg22VJAo2h",
        "outputId": "fb8a320d-e7c0-4f2d-9482-0cb165f083e4"
      },
      "execution_count": null,
      "outputs": [
        {
          "output_type": "stream",
          "name": "stdout",
          "text": [
            "{'', 'up', 'in', 'on', 'can', 'as', 'have', 'is ', 'her', 'we', 'of ', 'a', 'at', 'had', 'to', 'are', 'for', 'has', 'once ', 'no', 'all', 'be', 'am', 'his', 'do', 'the', 'and '}\n"
          ]
        }
      ]
    },
    {
      "cell_type": "code",
      "source": [
        "ps = PorterStemmer()\n",
        "\n",
        "def create_inverted_index_from_folder(folder_path):\n",
        "    inverted_index = defaultdict(set)  # Using set instead of list to ensure uniqueness of documents\n",
        "\n",
        "    for filename in os.listdir(folder_path):  # Iterate over each document\n",
        "        file_path = os.path.join(folder_path, filename)\n",
        "        with open(file_path, 'r', encoding='cp1252') as file: # cp1252 is windows text file encoding\n",
        "            text = file.read()\n",
        "            tokens = word_tokenize(text) #from nlkt module\n",
        "\n",
        "            for token in tokens:\n",
        "                # stemmed_token = ps.stem(token)\n",
        "                if token not in stop_words:  # Check if token is not a stop word\n",
        "                 inverted_index[token].add(filename)  # Update inverted index with document where token appears\n",
        "\n",
        "    return inverted_index"
      ],
      "metadata": {
        "id": "MrT39DLYBJbp"
      },
      "execution_count": null,
      "outputs": []
    },
    {
      "cell_type": "code",
      "source": [
        "#creating inverted index\n",
        "folder_path = \"/content/drive/MyDrive/InfoRetrive/ResearchPapers\"\n",
        "inverted_index = create_inverted_index_from_folder(folder_path)\n",
        "\n",
        "# for token, documents in inverted_index.items():\n",
        "#     print(f\"{token}: {documents}\")\n",
        "\n",
        "print(\"Length of the inverted index:\", len(inverted_index))\n"
      ],
      "metadata": {
        "colab": {
          "base_uri": "https://localhost:8080/"
        },
        "id": "1m-twy9YBM9n",
        "outputId": "ef9ec223-6e39-46eb-d032-50252ce347f6"
      },
      "execution_count": null,
      "outputs": [
        {
          "output_type": "stream",
          "name": "stdout",
          "text": [
            "Length of the inverted index: 29791\n"
          ]
        }
      ]
    },
    {
      "cell_type": "code",
      "source": [
        "def get_all_documents(inverted_index):\n",
        "    all_docs = set()\n",
        "    for postings in inverted_index.values():\n",
        "        all_docs.update(postings)\n",
        "    return all_docs #has all documnts\n",
        "\n",
        "def complement(universe, set_to_complement):\n",
        "    return universe - set_to_complement #subtract documnts\n",
        "\n",
        "\n",
        "def search_inverted_index(query, inverted_index):\n",
        "    query_tokens = word_tokenize(query) #make tokens\n",
        "    #stemmed_query_tokens = [ps.stem(token) for token in query_tokens]\n",
        "\n",
        "    result = None\n",
        "    operator = None\n",
        "\n",
        "    for token in query_tokens: #itterates and checks operator\n",
        "        if token in ('AND', 'OR', 'NOT'):\n",
        "            operator = token\n",
        "        else:\n",
        "            if result is None:\n",
        "                result = inverted_index[token].copy() #use copy so og posting list dosrnt get modified\n",
        "            else:\n",
        "                if operator == 'AND':\n",
        "                    result = result.intersection(inverted_index[token])\n",
        "                elif operator == 'OR':\n",
        "                    result = result.union(inverted_index[token])\n",
        "                elif operator == 'NOT':\n",
        "                    documents = get_all_documents(inverted_index)\n",
        "                    result = complement(documents, inverted_index[token])\n",
        "                operator = None\n",
        "\n",
        "    return result\n",
        "\n",
        "\n",
        "# query = \"feature AND selection AND classification \"\n",
        "# results = search_inverted_index(query, inverted_index)\n",
        "# print(\"Documents matching the query:\", results)\n"
      ],
      "metadata": {
        "colab": {
          "base_uri": "https://localhost:8080/"
        },
        "id": "2-HHjyljEp88",
        "outputId": "134b6032-4e8e-4ef6-cd8e-0d42ac6e46cf"
      },
      "execution_count": null,
      "outputs": [
        {
          "output_type": "stream",
          "name": "stdout",
          "text": [
            "Documents matching the query: {'8.txt', '23.txt', '25.txt', '22.txt', '12.txt'}\n"
          ]
        }
      ]
    },
    {
      "cell_type": "code",
      "source": [
        "def search(Query):\n",
        "    results = search_inverted_index(Query, inverted_index)\n",
        "    print(\"Results:\", results)\n",
        "\n",
        "interact(search, Query=\"\");"
      ],
      "metadata": {
        "colab": {
          "base_uri": "https://localhost:8080/",
          "height": 67,
          "referenced_widgets": [
            "9e3fc7dd69dd49e29133c019ccabf773",
            "a7d07faf6c6448af920244ca0f657464",
            "bddeac9061be4a6aa1b718e8bdcbae3d",
            "d65f94420470423592ae0670267d86e0",
            "99cd0a5d5a5b47a594c80627cf9eea67",
            "3759340ec84e4f0eabe04320fe3381ad",
            "e976fdb6fe004f6181e3475fc51ec228"
          ]
        },
        "id": "TVJdD6S9_2UG",
        "outputId": "f1f60e38-baeb-4171-bce4-2f90699a737d"
      },
      "execution_count": null,
      "outputs": [
        {
          "output_type": "display_data",
          "data": {
            "text/plain": [
              "interactive(children=(Text(value='', description='Query'), Output()), _dom_classes=('widget-interact',))"
            ],
            "application/vnd.jupyter.widget-view+json": {
              "version_major": 2,
              "version_minor": 0,
              "model_id": "9e3fc7dd69dd49e29133c019ccabf773"
            }
          },
          "metadata": {}
        }
      ]
    },
    {
      "cell_type": "code",
      "source": [],
      "metadata": {
        "id": "TlaZGYkDBJAl"
      },
      "execution_count": null,
      "outputs": []
    }
  ]
}